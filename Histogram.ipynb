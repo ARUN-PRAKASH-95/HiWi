{
 "cells": [
  {
   "cell_type": "markdown",
   "metadata": {},
   "source": [
    "# Histogram"
   ]
  },
  {
   "cell_type": "markdown",
   "metadata": {},
   "source": [
    "Histogram is bar graph for representing dataset with continuous class intervals. The following cell demonstrates how to create a histogram for 50 random numbers between 0 and 100 for a class interval of 10"
   ]
  },
  {
   "cell_type": "code",
   "execution_count": 1,
   "metadata": {},
   "outputs": [
    {
     "name": "stdout",
     "output_type": "stream",
     "text": [
      "       50 random numbers between 0 an 100\n",
      "[99 64  5  7  7 37  7  5 49 27 85 37 88 35 29 57 96 36 83 36  1 81 30 76\n",
      " 13 33 52 30 87 79  8  5 57 97 30 96  4 69 98 49 82 96 22 29 57 10 61 71\n",
      " 62 84]\n"
     ]
    },
    {
     "data": {
      "image/png": "[encoded data removed]",
      "text/plain": [
       "<Figure size 432x288 with 1 Axes>"
      ]
     },
     "metadata": {
      "needs_background": "light"
     },
     "output_type": "display_data"
    },
    {
     "data": {
      "text/plain": [
       "(array([9., 2., 4., 9., 2., 4., 4., 3., 7., 6.]),\n",
       " array([  0.,  10.,  20.,  30.,  40.,  50.,  60.,  70.,  80.,  90., 100.]),\n",
       " <BarContainer object of 10 artists>)"
      ]
     },
     "metadata": {},
     "output_type": "display_data"
    }
   ],
   "source": [
    "import numpy as np\n",
    "import matplotlib.pyplot as plt\n",
    "\n",
    "a = np.random.randint(100, size=(50))    #Generates 50 random numbers between 0 and 100\n",
    "bins = np.linspace(0,100,11)             #Creates an 1D array which contain class intrvals (10)\n",
    "print('       50 random numbers between 0 an 100')\n",
    "print(a)  \n",
    "\n",
    "hist = plt.hist(a, bins=bins)            #Function for creating histogram for above dataset\n",
    "plt.title('Histogram')                   \n",
    "plt.xlabel('Intervals')\n",
    "plt.ylabel('Frequency')\n",
    "plt.show()\n",
    "display(hist)\n"
   ]
  },
  {
   "cell_type": "code",
   "execution_count": 2,
   "metadata": {
    "scrolled": false
   },
   "outputs": [
    {
     "name": "stdout",
     "output_type": "stream",
     "text": [
      "(array([[2., 0., 0.],\n",
      "       [0., 1., 0.],\n",
      "       [0., 0., 2.]]), array([1.        , 2.33333333, 3.66666667, 5.        ]), array([ 6.        ,  7.33333333,  8.66666667, 10.        ]))\n"
     ]
    },
    {
     "data": {
      "text/plain": [
       "<matplotlib.colorbar.Colorbar at 0x27d4cfc4070>"
      ]
     },
     "execution_count": 2,
     "metadata": {},
     "output_type": "execute_result"
    },
    {
     "data": {
      "image/png": "[encoded data removed]",
      "text/plain": [
       "<Figure size 432x288 with 2 Axes>"
      ]
     },
     "metadata": {
      "needs_background": "light"
     },
     "output_type": "display_data"
    }
   ],
   "source": [
    "froms = np.array([1,2,3,4,5])\n",
    "tos   = np.array([6,7,8,9,10])\n",
    "\n",
    "hist = np.histogram2d(froms,tos,bins=3) \n",
    "print(hist)\n",
    "\n",
    "\n",
    "plt.imshow(hist[0],extent=[1,5,10,6])\n",
    "plt.title('2D Histogram')                   \n",
    "plt.xlabel('froms')\n",
    "plt.ylabel('tos')\n",
    "plt.colorbar()"
   ]
  },
  {
   "cell_type": "code",
   "execution_count": null,
   "metadata": {},
   "outputs": [],
   "source": []
  }
 ],
 "metadata": {
  "kernelspec": {
   "display_name": "Python 3",
   "language": "python",
   "name": "python3"
  },
  "language_info": {
   "codemirror_mode": {
    "name": "ipython",
    "version": 3
   },
   "file_extension": ".py",
   "mimetype": "text/x-python",
   "name": "python",
   "nbconvert_exporter": "python",
   "pygments_lexer": "ipython3",
   "version": "3.8.5"
  }
 },
 "nbformat": 4,
 "nbformat_minor": 4
}
