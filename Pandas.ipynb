{
 "cells": [
  {
   "cell_type": "markdown",
   "metadata": {},
   "source": [
    "# Pandas Examples"
   ]
  },
  {
   "cell_type": "raw",
   "metadata": {},
   "source": [
    "pandas.Dataframe creates or access two-dimensional, size-mutable, potentially heterogeneous tabular data.\n",
    "The input variables are 'pandas.DataFrame(data=None, index=None, columns=None, dtype=None, copy=False)'. An example for creating and accessing tabular data is shown below \n"
   ]
  },
  {
   "cell_type": "code",
   "execution_count": 1,
   "metadata": {},
   "outputs": [
    {
     "name": "stdout",
     "output_type": "stream",
     "text": [
      "{'col1': [1, 2], 'col2': [3, 4]}\n"
     ]
    },
    {
     "data": {
      "text/html": [
       "<div>\n",
       "<style scoped>\n",
       "    .dataframe tbody tr th:only-of-type {\n",
       "        vertical-align: middle;\n",
       "    }\n",
       "\n",
       "    .dataframe tbody tr th {\n",
       "        vertical-align: top;\n",
       "    }\n",
       "\n",
       "    .dataframe thead th {\n",
       "        text-align: right;\n",
       "    }\n",
       "</style>\n",
       "<table border=\"1\" class=\"dataframe\">\n",
       "  <thead>\n",
       "    <tr style=\"text-align: right;\">\n",
       "      <th></th>\n",
       "      <th>col1</th>\n",
       "      <th>col2</th>\n",
       "    </tr>\n",
       "  </thead>\n",
       "  <tbody>\n",
       "    <tr>\n",
       "      <th>0</th>\n",
       "      <td>1</td>\n",
       "      <td>3</td>\n",
       "    </tr>\n",
       "    <tr>\n",
       "      <th>1</th>\n",
       "      <td>2</td>\n",
       "      <td>4</td>\n",
       "    </tr>\n",
       "  </tbody>\n",
       "</table>\n",
       "</div>"
      ],
      "text/plain": [
       "   col1  col2\n",
       "0     1     3\n",
       "1     2     4"
      ]
     },
     "execution_count": 1,
     "metadata": {},
     "output_type": "execute_result"
    }
   ],
   "source": [
    "import pandas as pd\n",
    "import numpy as np\n",
    "\n",
    "d = {'col1': [1, 2], 'col2': [3, 4]}         #To create a simple table which contains 2D data\n",
    "print(d)\n",
    "\n",
    "df = pd.DataFrame(data=d)\n",
    "df"
   ]
  },
  {
   "cell_type": "markdown",
   "metadata": {},
   "source": [
    "# Importing an Excel file using pandas Dataframe"
   ]
  },
  {
   "cell_type": "code",
   "execution_count": 2,
   "metadata": {},
   "outputs": [
    {
     "data": {
      "text/html": [
       "<div>\n",
       "<style scoped>\n",
       "    .dataframe tbody tr th:only-of-type {\n",
       "        vertical-align: middle;\n",
       "    }\n",
       "\n",
       "    .dataframe tbody tr th {\n",
       "        vertical-align: top;\n",
       "    }\n",
       "\n",
       "    .dataframe thead th {\n",
       "        text-align: right;\n",
       "    }\n",
       "</style>\n",
       "<table border=\"1\" class=\"dataframe\">\n",
       "  <thead>\n",
       "    <tr style=\"text-align: right;\">\n",
       "      <th></th>\n",
       "      <th>Date</th>\n",
       "      <th>Timing</th>\n",
       "      <th>Duration (Hrs)</th>\n",
       "    </tr>\n",
       "  </thead>\n",
       "  <tbody>\n",
       "    <tr>\n",
       "      <th>0</th>\n",
       "      <td>20.10.2020</td>\n",
       "      <td>16.30 - 18.30</td>\n",
       "      <td>2.0</td>\n",
       "    </tr>\n",
       "    <tr>\n",
       "      <th>1</th>\n",
       "      <td>21.10.2020</td>\n",
       "      <td>15.30 - 17.00</td>\n",
       "      <td>1.5</td>\n",
       "    </tr>\n",
       "    <tr>\n",
       "      <th>2</th>\n",
       "      <td>22.10.2020</td>\n",
       "      <td>16.30 - 18.30</td>\n",
       "      <td>2.0</td>\n",
       "    </tr>\n",
       "    <tr>\n",
       "      <th>3</th>\n",
       "      <td>23.10.2020</td>\n",
       "      <td>16.30 - 18.30</td>\n",
       "      <td>2.0</td>\n",
       "    </tr>\n",
       "    <tr>\n",
       "      <th>4</th>\n",
       "      <td>24.10.2020</td>\n",
       "      <td>10.00 - 11.00</td>\n",
       "      <td>1.0</td>\n",
       "    </tr>\n",
       "    <tr>\n",
       "      <th>5</th>\n",
       "      <td>25.10..2020</td>\n",
       "      <td>10.00 - 11.00</td>\n",
       "      <td>1.0</td>\n",
       "    </tr>\n",
       "    <tr>\n",
       "      <th>6</th>\n",
       "      <td>26.10.2020</td>\n",
       "      <td>16.30 - 18.00</td>\n",
       "      <td>1.5</td>\n",
       "    </tr>\n",
       "    <tr>\n",
       "      <th>7</th>\n",
       "      <td>27.10.2020</td>\n",
       "      <td>10.15 - 12.15</td>\n",
       "      <td>2.0</td>\n",
       "    </tr>\n",
       "  </tbody>\n",
       "</table>\n",
       "</div>"
      ],
      "text/plain": [
       "          Date         Timing   Duration (Hrs)\n",
       "0   20.10.2020  16.30 - 18.30              2.0\n",
       "1   21.10.2020   15.30 - 17.00             1.5\n",
       "2   22.10.2020   16.30 - 18.30             2.0\n",
       "3   23.10.2020   16.30 - 18.30             2.0\n",
       "4   24.10.2020   10.00 - 11.00             1.0\n",
       "5  25.10..2020   10.00 - 11.00             1.0\n",
       "6   26.10.2020   16.30 - 18.00             1.5\n",
       "7   27.10.2020   10.15 - 12.15             2.0"
      ]
     },
     "execution_count": 2,
     "metadata": {},
     "output_type": "execute_result"
    }
   ],
   "source": [
    "data = pd.read_excel('HiWi_Work_Hours.xlsx')    # To read the excel file\n",
    "data = data.dropna(axis='columns', how='all')   # To drop empty columns\n",
    "data"
   ]
  },
  {
   "cell_type": "markdown",
   "metadata": {},
   "source": [
    "The following cells demonstrates how to get the index and column name of the dataset and how to access a particular column of the dataset"
   ]
  },
  {
   "cell_type": "code",
   "execution_count": 3,
   "metadata": {},
   "outputs": [
    {
     "data": {
      "text/plain": [
       "RangeIndex(start=0, stop=8, step=1)"
      ]
     },
     "metadata": {},
     "output_type": "display_data"
    },
    {
     "data": {
      "text/plain": [
       "Index(['Date', 'Timing ', 'Duration (Hrs)'], dtype='object')"
      ]
     },
     "metadata": {},
     "output_type": "display_data"
    },
    {
     "data": {
      "text/plain": [
       "array([['20.10.2020', '16.30 - 18.30 ', 2.0],\n",
       "       ['21.10.2020', '15.30 - 17.00', 1.5],\n",
       "       ['22.10.2020', '16.30 - 18.30', 2.0],\n",
       "       ['23.10.2020', '16.30 - 18.30', 2.0],\n",
       "       ['24.10.2020', '10.00 - 11.00', 1.0],\n",
       "       ['25.10..2020', '10.00 - 11.00', 1.0],\n",
       "       ['26.10.2020', '16.30 - 18.00', 1.5],\n",
       "       ['27.10.2020', '10.15 - 12.15', 2.0]], dtype=object)"
      ]
     },
     "execution_count": 3,
     "metadata": {},
     "output_type": "execute_result"
    }
   ],
   "source": [
    "display(data.index)    #To access index\n",
    "display(data.columns)  #To get column names\n",
    "data.values            #To get all the values in all the columns of the dataset"
   ]
  },
  {
   "cell_type": "code",
   "execution_count": 4,
   "metadata": {},
   "outputs": [
    {
     "data": {
      "text/plain": [
       "0     20.10.2020\n",
       "1     21.10.2020\n",
       "2     22.10.2020\n",
       "3     23.10.2020\n",
       "4     24.10.2020\n",
       "5    25.10..2020\n",
       "6     26.10.2020\n",
       "7     27.10.2020\n",
       "Name: Date, dtype: object"
      ]
     },
     "execution_count": 4,
     "metadata": {},
     "output_type": "execute_result"
    }
   ],
   "source": [
    "data['Date']     #To access particular column"
   ]
  },
  {
   "cell_type": "markdown",
   "metadata": {},
   "source": [
    "* For loop goes through every row of the datset\n",
    "* To access index use i.index\n",
    "* To access column names use i.column\n",
    "* To access values use i.values"
   ]
  },
  {
   "cell_type": "code",
   "execution_count": 5,
   "metadata": {},
   "outputs": [
    {
     "name": "stdout",
     "output_type": "stream",
     "text": [
      "3.0\n",
      "2.5\n",
      "3.0\n",
      "3.0\n",
      "2.0\n",
      "2.0\n",
      "2.5\n",
      "3.0\n"
     ]
    }
   ],
   "source": [
    "for i in data['Duration (Hrs)']:\n",
    "    print(i+1)"
   ]
  },
  {
   "cell_type": "markdown",
   "metadata": {},
   "source": [
    "# Pandas interval index"
   ]
  },
  {
   "cell_type": "markdown",
   "metadata": {},
   "source": [
    "The following cell demontrstes how to construct interval index"
   ]
  },
  {
   "cell_type": "markdown",
   "metadata": {},
   "source": [
    "Immutable index of intervals that are closed on the same side.\n",
    "\n"
   ]
  },
  {
   "cell_type": "code",
   "execution_count": 6,
   "metadata": {},
   "outputs": [
    {
     "data": {
      "text/plain": [
       "IntervalIndex([(0, 1], (1, 2], (2, 3], (3, 4], (4, 5], (5, 6], (6, 7], (7, 8], (8, 9], (9, 10]],\n",
       "              closed='right',\n",
       "              dtype='interval[int64]')"
      ]
     },
     "execution_count": 6,
     "metadata": {},
     "output_type": "execute_result"
    }
   ],
   "source": [
    "pd.interval_range(0,10)"
   ]
  },
  {
   "cell_type": "code",
   "execution_count": 7,
   "metadata": {},
   "outputs": [
    {
     "name": "stdout",
     "output_type": "stream",
     "text": [
      "IntervalIndex([(1.0, 2.333], (2.333, 3.666], (3.666, 5.0]],\n",
      "              closed='right',\n",
      "              dtype='interval[float64]')\n",
      "IntervalIndex([(6.0, 7.333], (7.333, 8.67], (8.67, 10.0]],\n",
      "              closed='right',\n",
      "              dtype='interval[float64]')\n"
     ]
    }
   ],
   "source": [
    "ar = np.array([[2,0,0],[0,1,0],[0,0,2]])\n",
    "\n",
    "a = pd.IntervalIndex.from_breaks([1,2.333,3.666,5])\n",
    "b = pd.IntervalIndex.from_breaks([6,7.333,8.67,10])\n",
    "\n",
    "print(a)\n",
    "print(b)\n"
   ]
  },
  {
   "cell_type": "markdown",
   "metadata": {},
   "source": [
    "Make a MultiIndex from the cartesian product of multiple iterables.\n",
    "\n"
   ]
  },
  {
   "cell_type": "code",
   "execution_count": 8,
   "metadata": {},
   "outputs": [
    {
     "data": {
      "text/plain": [
       "MultiIndex([(  (1.0, 2.333],  (6.0, 7.333]),\n",
       "            (  (1.0, 2.333], (7.333, 8.67]),\n",
       "            (  (1.0, 2.333],  (8.67, 10.0]),\n",
       "            ((2.333, 3.666],  (6.0, 7.333]),\n",
       "            ((2.333, 3.666], (7.333, 8.67]),\n",
       "            ((2.333, 3.666],  (8.67, 10.0]),\n",
       "            (  (3.666, 5.0],  (6.0, 7.333]),\n",
       "            (  (3.666, 5.0], (7.333, 8.67]),\n",
       "            (  (3.666, 5.0],  (8.67, 10.0])],\n",
       "           names=['from', 'to'])"
      ]
     },
     "execution_count": 8,
     "metadata": {},
     "output_type": "execute_result"
    }
   ],
   "source": [
    "mult_idx = pd.MultiIndex.from_product([a, b], names=['from', 'to'])\n",
    "mult_idx"
   ]
  },
  {
   "cell_type": "code",
   "execution_count": 9,
   "metadata": {},
   "outputs": [
    {
     "data": {
      "text/html": [
       "<div>\n",
       "<style scoped>\n",
       "    .dataframe tbody tr th:only-of-type {\n",
       "        vertical-align: middle;\n",
       "    }\n",
       "\n",
       "    .dataframe tbody tr th {\n",
       "        vertical-align: top;\n",
       "    }\n",
       "\n",
       "    .dataframe thead th {\n",
       "        text-align: right;\n",
       "    }\n",
       "</style>\n",
       "<table border=\"1\" class=\"dataframe\">\n",
       "  <thead>\n",
       "    <tr style=\"text-align: right;\">\n",
       "      <th></th>\n",
       "      <th></th>\n",
       "      <th>0</th>\n",
       "    </tr>\n",
       "    <tr>\n",
       "      <th>from</th>\n",
       "      <th>to</th>\n",
       "      <th></th>\n",
       "    </tr>\n",
       "  </thead>\n",
       "  <tbody>\n",
       "    <tr>\n",
       "      <th rowspan=\"3\" valign=\"top\">(1.0, 2.333]</th>\n",
       "      <th>(6.0, 7.333]</th>\n",
       "      <td>2</td>\n",
       "    </tr>\n",
       "    <tr>\n",
       "      <th>(7.333, 8.67]</th>\n",
       "      <td>0</td>\n",
       "    </tr>\n",
       "    <tr>\n",
       "      <th>(8.67, 10.0]</th>\n",
       "      <td>0</td>\n",
       "    </tr>\n",
       "    <tr>\n",
       "      <th rowspan=\"3\" valign=\"top\">(2.333, 3.666]</th>\n",
       "      <th>(6.0, 7.333]</th>\n",
       "      <td>0</td>\n",
       "    </tr>\n",
       "    <tr>\n",
       "      <th>(7.333, 8.67]</th>\n",
       "      <td>1</td>\n",
       "    </tr>\n",
       "    <tr>\n",
       "      <th>(8.67, 10.0]</th>\n",
       "      <td>0</td>\n",
       "    </tr>\n",
       "    <tr>\n",
       "      <th rowspan=\"3\" valign=\"top\">(3.666, 5.0]</th>\n",
       "      <th>(6.0, 7.333]</th>\n",
       "      <td>0</td>\n",
       "    </tr>\n",
       "    <tr>\n",
       "      <th>(7.333, 8.67]</th>\n",
       "      <td>0</td>\n",
       "    </tr>\n",
       "    <tr>\n",
       "      <th>(8.67, 10.0]</th>\n",
       "      <td>2</td>\n",
       "    </tr>\n",
       "  </tbody>\n",
       "</table>\n",
       "</div>"
      ],
      "text/plain": [
       "                              0\n",
       "from           to              \n",
       "(1.0, 2.333]   (6.0, 7.333]   2\n",
       "               (7.333, 8.67]  0\n",
       "               (8.67, 10.0]   0\n",
       "(2.333, 3.666] (6.0, 7.333]   0\n",
       "               (7.333, 8.67]  1\n",
       "               (8.67, 10.0]   0\n",
       "(3.666, 5.0]   (6.0, 7.333]   0\n",
       "               (7.333, 8.67]  0\n",
       "               (8.67, 10.0]   2"
      ]
     },
     "execution_count": 9,
     "metadata": {},
     "output_type": "execute_result"
    }
   ],
   "source": [
    "pd.DataFrame(data=ar.flatten(),index=mult_idx)"
   ]
  },
  {
   "cell_type": "code",
   "execution_count": null,
   "metadata": {},
   "outputs": [],
   "source": []
  }
 ],
 "metadata": {
  "kernelspec": {
   "display_name": "Python 3",
   "language": "python",
   "name": "python3"
  },
  "language_info": {
   "codemirror_mode": {
    "name": "ipython",
    "version": 3
   },
   "file_extension": ".py",
   "mimetype": "text/x-python",
   "name": "python",
   "nbconvert_exporter": "python",
   "pygments_lexer": "ipython3",
   "version": "3.7.6"
  }
 },
 "nbformat": 4,
 "nbformat_minor": 4
}
